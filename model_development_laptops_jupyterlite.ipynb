{
  "cells": [
    {
      "cell_type": "markdown",
      "metadata": {
        "id": "view-in-github",
        "colab_type": "text"
      },
      "source": [
        "<a href=\"https://colab.research.google.com/github/SundasAshraf/Car-price-prediction-model/blob/main/model_development_laptops_jupyterlite.ipynb\" target=\"_parent\"><img src=\"https://colab.research.google.com/assets/colab-badge.svg\" alt=\"Open In Colab\"/></a>"
      ]
    },
    {
      "cell_type": "markdown",
      "metadata": {
        "id": "46faba40-e2dc-4c9b-befb-a07301e4561c"
      },
      "source": [
        "<p style=\"text-align:center\">\n",
        "    <a href=\"https://skills.network\" target=\"_blank\">\n",
        "    <img src=\"https://cf-courses-data.s3.us.cloud-object-storage.appdomain.cloud/assets/logos/SN_web_lightmode.png\" width=\"300\" alt=\"Skills Network Logo\">\n",
        "    </a>\n",
        "</p>\n"
      ]
    },
    {
      "cell_type": "code",
      "metadata": {
        "id": "cce25483-ac5f-4911-8d87-f3cd9e9c9d8a"
      },
      "outputs": [],
      "source": [],
      "execution_count": null
    },
    {
      "cell_type": "markdown",
      "metadata": {
        "id": "17229b87-ac77-45ce-ba8e-51099742dcc3"
      },
      "source": [
        "### Importing Required Libraries\n",
        "\n",
        "_We recommend you import all required libraries in one place (here):_\n"
      ]
    },
    {
      "cell_type": "code",
      "metadata": {
        "id": "53997d4e-d446-41fb-aa1e-9709f47b412a"
      },
      "outputs": [],
      "source": [
        "import pandas as pd\n",
        "import numpy as np\n",
        "import matplotlib.pyplot as plt\n",
        "import seaborn as sns\n",
        "from sklearn.linear_model import LinearRegression\n",
        "from sklearn.preprocessing import StandardScaler, PolynomialFeatures\n",
        "from sklearn.pipeline import Pipeline\n",
        "from sklearn.metrics import mean_squared_error, r2_score\n"
      ],
      "execution_count": null
    },
    {
      "cell_type": "markdown",
      "metadata": {
        "id": "5a2ad167-a821-4eb3-b702-0dd3070a2d64"
      },
      "source": [
        "### Importing the dataset\n",
        "Run the cell below to download the dataset into this environment.\n",
        "\n",
        "This function will download the dataset into your browser\n"
      ]
    },
    {
      "cell_type": "markdown",
      "metadata": {
        "id": "71b741a6-50a5-45a8-8759-6086fd766d20"
      },
      "source": [
        "We put the file path along with a quotation mark so that pandas will read the file into a dataframe from that address. The file path can be either an URL or your local file address.\n"
      ]
    },
    {
      "cell_type": "markdown",
      "metadata": {
        "id": "f1d2b919-7c79-420a-ab18-403b47ad56bb"
      },
      "source": [
        "You will need to download the dataset using the download() function:\n"
      ]
    },
    {
      "cell_type": "code",
      "source": [
        "from google.colab import drive\n",
        "drive.mount('/content/drive')"
      ],
      "metadata": {
        "colab": {
          "base_uri": "https://localhost:8080/"
        },
        "id": "gYjIbn3_AXvv",
        "outputId": "9426deaa-3483-4296-f372-49085fdf8112"
      },
      "execution_count": null,
      "outputs": [
        {
          "output_type": "stream",
          "name": "stdout",
          "text": [
            "Mounted at /content/drive\n"
          ]
        }
      ]
    },
    {
      "cell_type": "code",
      "metadata": {
        "id": "49d86c89-50c7-488b-85aa-496639ecd152"
      },
      "outputs": [],
      "source": [
        "file_name='/content/drive/MyDrive/Colab Notebooks/data/laptop_pricing_dataset_base.csv'\n",
        "headers=['Manufacturer', 'Category','GPU', 'OS', 'CPU_core', 'Screen_Size_cm',  'CPU_frequency', 'RAM_GB',\n",
        "        'Storage_GB_SSD', 'Weight_kg', 'Price']\n",
        "\n",
        "df = pd.read_csv(file_name, names=headers)"
      ],
      "execution_count": null
    },
    {
      "cell_type": "code",
      "metadata": {
        "id": "392d145e-3c8a-4f5d-af57-f50171678fe8"
      },
      "outputs": [],
      "source": [
        "# show the first 5 rows using dataframe.head() method\n",
        "print(\"The first 5 rows of the dataframe\")\n",
        "df.head(5)\n",
        "\n"
      ],
      "execution_count": null
    },
    {
      "cell_type": "code",
      "source": [
        "df.describe()"
      ],
      "metadata": {
        "colab": {
          "base_uri": "https://localhost:8080/",
          "height": 300
        },
        "id": "kcRNNHL5DPdm",
        "outputId": "77c3d167-cb00-4096-8d42-1feeb5da5c8b"
      },
      "execution_count": null,
      "outputs": [
        {
          "output_type": "execute_result",
          "data": {
            "text/plain": [
              "       Manufacturer         GPU          OS    CPU_core  CPU_frequency  \\\n",
              "count    238.000000  238.000000  238.000000  238.000000     238.000000   \n",
              "mean       3.205882    2.151261    1.058824    5.630252       2.360084   \n",
              "std        0.776533    0.638282    0.235790    1.241787       0.411393   \n",
              "min        1.000000    1.000000    1.000000    3.000000       1.200000   \n",
              "25%        3.000000    2.000000    1.000000    5.000000       2.000000   \n",
              "50%        3.000000    2.000000    1.000000    5.000000       2.500000   \n",
              "75%        4.000000    3.000000    1.000000    7.000000       2.700000   \n",
              "max        5.000000    3.000000    2.000000    7.000000       2.900000   \n",
              "\n",
              "           RAM_GB  Storage_GB_SSD        Price  \n",
              "count  238.000000      238.000000   238.000000  \n",
              "mean     7.882353      245.781513  1462.344538  \n",
              "std      2.482603       34.765316   574.607699  \n",
              "min      4.000000      128.000000   527.000000  \n",
              "25%      8.000000      256.000000  1066.500000  \n",
              "50%      8.000000      256.000000  1333.000000  \n",
              "75%      8.000000      256.000000  1777.000000  \n",
              "max     16.000000      256.000000  3810.000000  "
            ],
            "text/html": [
              "\n",
              "  <div id=\"df-965625ec-beda-4a4e-8113-7d32f6634806\" class=\"colab-df-container\">\n",
              "    <div>\n",
              "<style scoped>\n",
              "    .dataframe tbody tr th:only-of-type {\n",
              "        vertical-align: middle;\n",
              "    }\n",
              "\n",
              "    .dataframe tbody tr th {\n",
              "        vertical-align: top;\n",
              "    }\n",
              "\n",
              "    .dataframe thead th {\n",
              "        text-align: right;\n",
              "    }\n",
              "</style>\n",
              "<table border=\"1\" class=\"dataframe\">\n",
              "  <thead>\n",
              "    <tr style=\"text-align: right;\">\n",
              "      <th></th>\n",
              "      <th>Manufacturer</th>\n",
              "      <th>GPU</th>\n",
              "      <th>OS</th>\n",
              "      <th>CPU_core</th>\n",
              "      <th>CPU_frequency</th>\n",
              "      <th>RAM_GB</th>\n",
              "      <th>Storage_GB_SSD</th>\n",
              "      <th>Price</th>\n",
              "    </tr>\n",
              "  </thead>\n",
              "  <tbody>\n",
              "    <tr>\n",
              "      <th>count</th>\n",
              "      <td>238.000000</td>\n",
              "      <td>238.000000</td>\n",
              "      <td>238.000000</td>\n",
              "      <td>238.000000</td>\n",
              "      <td>238.000000</td>\n",
              "      <td>238.000000</td>\n",
              "      <td>238.000000</td>\n",
              "      <td>238.000000</td>\n",
              "    </tr>\n",
              "    <tr>\n",
              "      <th>mean</th>\n",
              "      <td>3.205882</td>\n",
              "      <td>2.151261</td>\n",
              "      <td>1.058824</td>\n",
              "      <td>5.630252</td>\n",
              "      <td>2.360084</td>\n",
              "      <td>7.882353</td>\n",
              "      <td>245.781513</td>\n",
              "      <td>1462.344538</td>\n",
              "    </tr>\n",
              "    <tr>\n",
              "      <th>std</th>\n",
              "      <td>0.776533</td>\n",
              "      <td>0.638282</td>\n",
              "      <td>0.235790</td>\n",
              "      <td>1.241787</td>\n",
              "      <td>0.411393</td>\n",
              "      <td>2.482603</td>\n",
              "      <td>34.765316</td>\n",
              "      <td>574.607699</td>\n",
              "    </tr>\n",
              "    <tr>\n",
              "      <th>min</th>\n",
              "      <td>1.000000</td>\n",
              "      <td>1.000000</td>\n",
              "      <td>1.000000</td>\n",
              "      <td>3.000000</td>\n",
              "      <td>1.200000</td>\n",
              "      <td>4.000000</td>\n",
              "      <td>128.000000</td>\n",
              "      <td>527.000000</td>\n",
              "    </tr>\n",
              "    <tr>\n",
              "      <th>25%</th>\n",
              "      <td>3.000000</td>\n",
              "      <td>2.000000</td>\n",
              "      <td>1.000000</td>\n",
              "      <td>5.000000</td>\n",
              "      <td>2.000000</td>\n",
              "      <td>8.000000</td>\n",
              "      <td>256.000000</td>\n",
              "      <td>1066.500000</td>\n",
              "    </tr>\n",
              "    <tr>\n",
              "      <th>50%</th>\n",
              "      <td>3.000000</td>\n",
              "      <td>2.000000</td>\n",
              "      <td>1.000000</td>\n",
              "      <td>5.000000</td>\n",
              "      <td>2.500000</td>\n",
              "      <td>8.000000</td>\n",
              "      <td>256.000000</td>\n",
              "      <td>1333.000000</td>\n",
              "    </tr>\n",
              "    <tr>\n",
              "      <th>75%</th>\n",
              "      <td>4.000000</td>\n",
              "      <td>3.000000</td>\n",
              "      <td>1.000000</td>\n",
              "      <td>7.000000</td>\n",
              "      <td>2.700000</td>\n",
              "      <td>8.000000</td>\n",
              "      <td>256.000000</td>\n",
              "      <td>1777.000000</td>\n",
              "    </tr>\n",
              "    <tr>\n",
              "      <th>max</th>\n",
              "      <td>5.000000</td>\n",
              "      <td>3.000000</td>\n",
              "      <td>2.000000</td>\n",
              "      <td>7.000000</td>\n",
              "      <td>2.900000</td>\n",
              "      <td>16.000000</td>\n",
              "      <td>256.000000</td>\n",
              "      <td>3810.000000</td>\n",
              "    </tr>\n",
              "  </tbody>\n",
              "</table>\n",
              "</div>\n",
              "    <div class=\"colab-df-buttons\">\n",
              "\n",
              "  <div class=\"colab-df-container\">\n",
              "    <button class=\"colab-df-convert\" onclick=\"convertToInteractive('df-965625ec-beda-4a4e-8113-7d32f6634806')\"\n",
              "            title=\"Convert this dataframe to an interactive table.\"\n",
              "            style=\"display:none;\">\n",
              "\n",
              "  <svg xmlns=\"http://www.w3.org/2000/svg\" height=\"24px\" viewBox=\"0 -960 960 960\">\n",
              "    <path d=\"M120-120v-720h720v720H120Zm60-500h600v-160H180v160Zm220 220h160v-160H400v160Zm0 220h160v-160H400v160ZM180-400h160v-160H180v160Zm440 0h160v-160H620v160ZM180-180h160v-160H180v160Zm440 0h160v-160H620v160Z\"/>\n",
              "  </svg>\n",
              "    </button>\n",
              "\n",
              "  <style>\n",
              "    .colab-df-container {\n",
              "      display:flex;\n",
              "      gap: 12px;\n",
              "    }\n",
              "\n",
              "    .colab-df-convert {\n",
              "      background-color: #E8F0FE;\n",
              "      border: none;\n",
              "      border-radius: 50%;\n",
              "      cursor: pointer;\n",
              "      display: none;\n",
              "      fill: #1967D2;\n",
              "      height: 32px;\n",
              "      padding: 0 0 0 0;\n",
              "      width: 32px;\n",
              "    }\n",
              "\n",
              "    .colab-df-convert:hover {\n",
              "      background-color: #E2EBFA;\n",
              "      box-shadow: 0px 1px 2px rgba(60, 64, 67, 0.3), 0px 1px 3px 1px rgba(60, 64, 67, 0.15);\n",
              "      fill: #174EA6;\n",
              "    }\n",
              "\n",
              "    .colab-df-buttons div {\n",
              "      margin-bottom: 4px;\n",
              "    }\n",
              "\n",
              "    [theme=dark] .colab-df-convert {\n",
              "      background-color: #3B4455;\n",
              "      fill: #D2E3FC;\n",
              "    }\n",
              "\n",
              "    [theme=dark] .colab-df-convert:hover {\n",
              "      background-color: #434B5C;\n",
              "      box-shadow: 0px 1px 3px 1px rgba(0, 0, 0, 0.15);\n",
              "      filter: drop-shadow(0px 1px 2px rgba(0, 0, 0, 0.3));\n",
              "      fill: #FFFFFF;\n",
              "    }\n",
              "  </style>\n",
              "\n",
              "    <script>\n",
              "      const buttonEl =\n",
              "        document.querySelector('#df-965625ec-beda-4a4e-8113-7d32f6634806 button.colab-df-convert');\n",
              "      buttonEl.style.display =\n",
              "        google.colab.kernel.accessAllowed ? 'block' : 'none';\n",
              "\n",
              "      async function convertToInteractive(key) {\n",
              "        const element = document.querySelector('#df-965625ec-beda-4a4e-8113-7d32f6634806');\n",
              "        const dataTable =\n",
              "          await google.colab.kernel.invokeFunction('convertToInteractive',\n",
              "                                                    [key], {});\n",
              "        if (!dataTable) return;\n",
              "\n",
              "        const docLinkHtml = 'Like what you see? Visit the ' +\n",
              "          '<a target=\"_blank\" href=https://colab.research.google.com/notebooks/data_table.ipynb>data table notebook</a>'\n",
              "          + ' to learn more about interactive tables.';\n",
              "        element.innerHTML = '';\n",
              "        dataTable['output_type'] = 'display_data';\n",
              "        await google.colab.output.renderOutput(dataTable, element);\n",
              "        const docLink = document.createElement('div');\n",
              "        docLink.innerHTML = docLinkHtml;\n",
              "        element.appendChild(docLink);\n",
              "      }\n",
              "    </script>\n",
              "  </div>\n",
              "\n",
              "\n",
              "<div id=\"df-dd1d83d0-785f-42e1-8836-bdcecdc4e28d\">\n",
              "  <button class=\"colab-df-quickchart\" onclick=\"quickchart('df-dd1d83d0-785f-42e1-8836-bdcecdc4e28d')\"\n",
              "            title=\"Suggest charts\"\n",
              "            style=\"display:none;\">\n",
              "\n",
              "<svg xmlns=\"http://www.w3.org/2000/svg\" height=\"24px\"viewBox=\"0 0 24 24\"\n",
              "     width=\"24px\">\n",
              "    <g>\n",
              "        <path d=\"M19 3H5c-1.1 0-2 .9-2 2v14c0 1.1.9 2 2 2h14c1.1 0 2-.9 2-2V5c0-1.1-.9-2-2-2zM9 17H7v-7h2v7zm4 0h-2V7h2v10zm4 0h-2v-4h2v4z\"/>\n",
              "    </g>\n",
              "</svg>\n",
              "  </button>\n",
              "\n",
              "<style>\n",
              "  .colab-df-quickchart {\n",
              "      --bg-color: #E8F0FE;\n",
              "      --fill-color: #1967D2;\n",
              "      --hover-bg-color: #E2EBFA;\n",
              "      --hover-fill-color: #174EA6;\n",
              "      --disabled-fill-color: #AAA;\n",
              "      --disabled-bg-color: #DDD;\n",
              "  }\n",
              "\n",
              "  [theme=dark] .colab-df-quickchart {\n",
              "      --bg-color: #3B4455;\n",
              "      --fill-color: #D2E3FC;\n",
              "      --hover-bg-color: #434B5C;\n",
              "      --hover-fill-color: #FFFFFF;\n",
              "      --disabled-bg-color: #3B4455;\n",
              "      --disabled-fill-color: #666;\n",
              "  }\n",
              "\n",
              "  .colab-df-quickchart {\n",
              "    background-color: var(--bg-color);\n",
              "    border: none;\n",
              "    border-radius: 50%;\n",
              "    cursor: pointer;\n",
              "    display: none;\n",
              "    fill: var(--fill-color);\n",
              "    height: 32px;\n",
              "    padding: 0;\n",
              "    width: 32px;\n",
              "  }\n",
              "\n",
              "  .colab-df-quickchart:hover {\n",
              "    background-color: var(--hover-bg-color);\n",
              "    box-shadow: 0 1px 2px rgba(60, 64, 67, 0.3), 0 1px 3px 1px rgba(60, 64, 67, 0.15);\n",
              "    fill: var(--button-hover-fill-color);\n",
              "  }\n",
              "\n",
              "  .colab-df-quickchart-complete:disabled,\n",
              "  .colab-df-quickchart-complete:disabled:hover {\n",
              "    background-color: var(--disabled-bg-color);\n",
              "    fill: var(--disabled-fill-color);\n",
              "    box-shadow: none;\n",
              "  }\n",
              "\n",
              "  .colab-df-spinner {\n",
              "    border: 2px solid var(--fill-color);\n",
              "    border-color: transparent;\n",
              "    border-bottom-color: var(--fill-color);\n",
              "    animation:\n",
              "      spin 1s steps(1) infinite;\n",
              "  }\n",
              "\n",
              "  @keyframes spin {\n",
              "    0% {\n",
              "      border-color: transparent;\n",
              "      border-bottom-color: var(--fill-color);\n",
              "      border-left-color: var(--fill-color);\n",
              "    }\n",
              "    20% {\n",
              "      border-color: transparent;\n",
              "      border-left-color: var(--fill-color);\n",
              "      border-top-color: var(--fill-color);\n",
              "    }\n",
              "    30% {\n",
              "      border-color: transparent;\n",
              "      border-left-color: var(--fill-color);\n",
              "      border-top-color: var(--fill-color);\n",
              "      border-right-color: var(--fill-color);\n",
              "    }\n",
              "    40% {\n",
              "      border-color: transparent;\n",
              "      border-right-color: var(--fill-color);\n",
              "      border-top-color: var(--fill-color);\n",
              "    }\n",
              "    60% {\n",
              "      border-color: transparent;\n",
              "      border-right-color: var(--fill-color);\n",
              "    }\n",
              "    80% {\n",
              "      border-color: transparent;\n",
              "      border-right-color: var(--fill-color);\n",
              "      border-bottom-color: var(--fill-color);\n",
              "    }\n",
              "    90% {\n",
              "      border-color: transparent;\n",
              "      border-bottom-color: var(--fill-color);\n",
              "    }\n",
              "  }\n",
              "</style>\n",
              "\n",
              "  <script>\n",
              "    async function quickchart(key) {\n",
              "      const quickchartButtonEl =\n",
              "        document.querySelector('#' + key + ' button');\n",
              "      quickchartButtonEl.disabled = true;  // To prevent multiple clicks.\n",
              "      quickchartButtonEl.classList.add('colab-df-spinner');\n",
              "      try {\n",
              "        const charts = await google.colab.kernel.invokeFunction(\n",
              "            'suggestCharts', [key], {});\n",
              "      } catch (error) {\n",
              "        console.error('Error during call to suggestCharts:', error);\n",
              "      }\n",
              "      quickchartButtonEl.classList.remove('colab-df-spinner');\n",
              "      quickchartButtonEl.classList.add('colab-df-quickchart-complete');\n",
              "    }\n",
              "    (() => {\n",
              "      let quickchartButtonEl =\n",
              "        document.querySelector('#df-dd1d83d0-785f-42e1-8836-bdcecdc4e28d button');\n",
              "      quickchartButtonEl.style.display =\n",
              "        google.colab.kernel.accessAllowed ? 'block' : 'none';\n",
              "    })();\n",
              "  </script>\n",
              "</div>\n",
              "\n",
              "    </div>\n",
              "  </div>\n"
            ],
            "application/vnd.google.colaboratory.intrinsic+json": {
              "type": "dataframe",
              "summary": "{\n  \"name\": \"df\",\n  \"rows\": 8,\n  \"fields\": [\n    {\n      \"column\": \"Manufacturer\",\n      \"properties\": {\n        \"dtype\": \"number\",\n        \"std\": 83.14833119820734,\n        \"min\": 0.7765328239083642,\n        \"max\": 238.0,\n        \"num_unique_values\": 7,\n        \"samples\": [\n          238.0,\n          3.2058823529411766,\n          4.0\n        ],\n        \"semantic_type\": \"\",\n        \"description\": \"\"\n      }\n    },\n    {\n      \"column\": \"GPU\",\n      \"properties\": {\n        \"dtype\": \"number\",\n        \"std\": 83.4533990001943,\n        \"min\": 0.6382816523418171,\n        \"max\": 238.0,\n        \"num_unique_values\": 6,\n        \"samples\": [\n          238.0,\n          2.1512605042016806,\n          3.0\n        ],\n        \"semantic_type\": \"\",\n        \"description\": \"\"\n      }\n    },\n    {\n      \"column\": \"OS\",\n      \"properties\": {\n        \"dtype\": \"number\",\n        \"std\": 83.77861624211342,\n        \"min\": 0.23578999621109692,\n        \"max\": 238.0,\n        \"num_unique_values\": 5,\n        \"samples\": [\n          1.0588235294117647,\n          2.0,\n          0.23578999621109692\n        ],\n        \"semantic_type\": \"\",\n        \"description\": \"\"\n      }\n    },\n    {\n      \"column\": \"CPU_core\",\n      \"properties\": {\n        \"dtype\": \"number\",\n        \"std\": 82.45773036539791,\n        \"min\": 1.2417868316797052,\n        \"max\": 238.0,\n        \"num_unique_values\": 6,\n        \"samples\": [\n          238.0,\n          5.630252100840337,\n          7.0\n        ],\n        \"semantic_type\": \"\",\n        \"description\": \"\"\n      }\n    },\n    {\n      \"column\": \"CPU_frequency\",\n      \"properties\": {\n        \"dtype\": \"number\",\n        \"std\": 83.43913570786319,\n        \"min\": 0.41139260416917545,\n        \"max\": 238.0,\n        \"num_unique_values\": 8,\n        \"samples\": [\n          2.3600840336134454,\n          2.5,\n          238.0\n        ],\n        \"semantic_type\": \"\",\n        \"description\": \"\"\n      }\n    },\n    {\n      \"column\": \"RAM_GB\",\n      \"properties\": {\n        \"dtype\": \"number\",\n        \"std\": 81.49639465821147,\n        \"min\": 2.4826026583597924,\n        \"max\": 238.0,\n        \"num_unique_values\": 6,\n        \"samples\": [\n          238.0,\n          7.882352941176471,\n          16.0\n        ],\n        \"semantic_type\": \"\",\n        \"description\": \"\"\n      }\n    },\n    {\n      \"column\": \"Storage_GB_SSD\",\n      \"properties\": {\n        \"dtype\": \"number\",\n        \"std\": 82.76329497098817,\n        \"min\": 34.7653155792181,\n        \"max\": 256.0,\n        \"num_unique_values\": 5,\n        \"samples\": [\n          245.78151260504202,\n          256.0,\n          34.7653155792181\n        ],\n        \"semantic_type\": \"\",\n        \"description\": \"\"\n      }\n    },\n    {\n      \"column\": \"Price\",\n      \"properties\": {\n        \"dtype\": \"number\",\n        \"std\": 1123.9154198780582,\n        \"min\": 238.0,\n        \"max\": 3810.0,\n        \"num_unique_values\": 8,\n        \"samples\": [\n          1462.3445378151262,\n          1333.0,\n          238.0\n        ],\n        \"semantic_type\": \"\",\n        \"description\": \"\"\n      }\n    }\n  ]\n}"
            }
          },
          "metadata": {},
          "execution_count": 13
        }
      ]
    },
    {
      "cell_type": "code",
      "source": [
        "df.shape"
      ],
      "metadata": {
        "colab": {
          "base_uri": "https://localhost:8080/"
        },
        "id": "QtH2hoiTDZ0O",
        "outputId": "7bcdf32c-db73-4afc-9223-e8f81f844062"
      },
      "execution_count": null,
      "outputs": [
        {
          "output_type": "execute_result",
          "data": {
            "text/plain": [
              "(238, 11)"
            ]
          },
          "metadata": {},
          "execution_count": 15
        }
      ]
    },
    {
      "cell_type": "markdown",
      "metadata": {
        "id": "245caa52-7d7e-4cd0-9110-f923654d65d6"
      },
      "source": [
        "# Task 1 : Single Linear Regression\n",
        "\n",
        "You have learnt that \"CPU_frequency\" is the parameter with the lowest p-value among the different features of the dataset. Create a single feature Linear Regression model that fits the pair of \"CPU_frequency\" and \"Price\" to find the model for prediction.\n"
      ]
    },
    {
      "cell_type": "code",
      "metadata": {
        "id": "401c6c6d-bb62-4fe8-9494-afeac595dc92"
      },
      "outputs": [],
      "source": [
        "lm = LinearRegression()\n",
        "\n",
        "X = df[['CPU_frequency']]\n",
        "Y = df['Price']\n",
        "\n",
        "lm.fit(X,Y)\n",
        "\n",
        "Yhat=lm.predict(X)\n"
      ],
      "execution_count": 16
    },
    {
      "cell_type": "markdown",
      "metadata": {
        "id": "264744f8-13a4-4364-9f96-30ca8928a729"
      },
      "source": [
        "<details>\n",
        "    <summary>Click here for Solution</summary>\n",
        "\n",
        "```python\n",
        "lm = LinearRegression()\n",
        "\n",
        "X = df[['CPU_frequency']]\n",
        "Y = df['Price']\n",
        "\n",
        "lm.fit(X,Y)\n",
        "\n",
        "Yhat=lm.predict(X)\n",
        "```\n",
        "\n",
        "</details>\n"
      ]
    },
    {
      "cell_type": "markdown",
      "metadata": {
        "id": "7d70d309-db2a-4d41-b751-92fdfd041fb8"
      },
      "source": [
        "Generate the Distribution plot for the predicted values and that of the actual values. How well did the model perform?\n"
      ]
    },
    {
      "cell_type": "code",
      "metadata": {
        "id": "6448c312-b897-4bbc-9620-04af9f0be145",
        "colab": {
          "base_uri": "https://localhost:8080/",
          "height": 854
        },
        "outputId": "cf506aa6-603c-4a92-d9d3-7d713c811f50"
      },
      "outputs": [
        {
          "output_type": "stream",
          "name": "stderr",
          "text": [
            "<ipython-input-18-086cb2fc0af4>:1: UserWarning: \n",
            "\n",
            "`distplot` is a deprecated function and will be removed in seaborn v0.14.0.\n",
            "\n",
            "Please adapt your code to use either `displot` (a figure-level function with\n",
            "similar flexibility) or `kdeplot` (an axes-level function for kernel density plots).\n",
            "\n",
            "For a guide to updating your code to use the new functions, please see\n",
            "https://gist.github.com/mwaskom/de44147ed2974457ad6372750bbe5751\n",
            "\n",
            "  ax1 = sns.distplot(df['Price'], hist=False, color=\"r\", label=\"Actual Value\")\n",
            "<ipython-input-18-086cb2fc0af4>:4: UserWarning: \n",
            "\n",
            "`distplot` is a deprecated function and will be removed in seaborn v0.14.0.\n",
            "\n",
            "Please adapt your code to use either `displot` (a figure-level function with\n",
            "similar flexibility) or `kdeplot` (an axes-level function for kernel density plots).\n",
            "\n",
            "For a guide to updating your code to use the new functions, please see\n",
            "https://gist.github.com/mwaskom/de44147ed2974457ad6372750bbe5751\n",
            "\n",
            "  sns.distplot(Yhat, hist=False, color=\"b\", label=\"Fitted Values\" , ax=ax1)\n"
          ]
        },
        {
          "output_type": "display_data",
          "data": {
            "text/plain": [
              "<Figure size 640x480 with 1 Axes>"
            ],
            "image/png": "[encoded data removed]"
          },
          "metadata": {}
        }
      ],
      "source": [
        "ax1 = sns.distplot(df['Price'], hist=False, color=\"r\", label=\"Actual Value\")\n",
        "\n",
        "# Create a distribution plot for predicted values\n",
        "sns.distplot(Yhat, hist=False, color=\"b\", label=\"Fitted Values\" , ax=ax1)\n",
        "\n",
        "plt.title('Actual vs Fitted Values for Price')\n",
        "plt.xlabel('Price')\n",
        "plt.ylabel('Proportion of laptops')\n",
        "plt.legend(['Actual Value', 'Predicted Value'])\n",
        "plt.show()\n"
      ],
      "execution_count": 18
    },
    {
      "cell_type": "markdown",
      "metadata": {
        "id": "90d5feb2-c810-439f-82ce-fb88283051d6"
      },
      "source": [
        "Evaluate the Mean Squared Error and R^2 score values for the model.\n"
      ]
    },
    {
      "cell_type": "code",
      "metadata": {
        "id": "479507ce-99f7-4e1f-888c-80e6bfcb8d19",
        "colab": {
          "base_uri": "https://localhost:8080/"
        },
        "outputId": "05552b55-8899-4f2f-82f8-fdd72786d39b"
      },
      "outputs": [
        {
          "output_type": "stream",
          "name": "stdout",
          "text": [
            "The R-square for Linear Regression is:  0.13444363210243282\n",
            "The mean square error of price and predicted value is:  284583.4405868628\n"
          ]
        }
      ],
      "source": [
        "mse_slr = mean_squared_error(df['Price'], Yhat)\n",
        "r2_score_slr = lm.score(X, Y)\n",
        "print('The R-square for Linear Regression is: ', r2_score_slr)\n",
        "print('The mean square error of price and predicted value is: ', mse_slr)\n"
      ],
      "execution_count": 19
    },
    {
      "cell_type": "markdown",
      "metadata": {
        "id": "a4c2a523-7cc8-4a67-a790-293f1d8464d4"
      },
      "source": [
        "# Task 2 - Multiple Linear Regression\n",
        "The parameters which have a low enough p-value so as to indicate strong relationship with the 'Price' value are 'CPU_frequency', 'RAM_GB', 'Storage_GB_SSD', 'CPU_core', 'OS', 'GPU' and 'Category'. Use all these variables to create a Multiple Linear Regression system.\n"
      ]
    },
    {
      "cell_type": "code",
      "metadata": {
        "id": "ddd393e1-f779-4001-a901-a70e59f98967",
        "colab": {
          "base_uri": "https://localhost:8080/",
          "height": 339
        },
        "outputId": "961931f6-db58-4cee-a3b7-7b2cdee671e9"
      },
      "outputs": [
        {
          "output_type": "error",
          "ename": "ValueError",
          "evalue": "could not convert string to float: 'IPS Panel'",
          "traceback": [
            "\u001b[0;31m---------------------------------------------------------------------------\u001b[0m",
            "\u001b[0;31mValueError\u001b[0m                                Traceback (most recent call last)",
            "\u001b[0;32m<ipython-input-23-a0e682fd6a2a>\u001b[0m in \u001b[0;36m<cell line: 4>\u001b[0;34m()\u001b[0m\n\u001b[1;32m      2\u001b[0m \u001b[0mlm1\u001b[0m \u001b[0;34m=\u001b[0m \u001b[0mLinearRegression\u001b[0m\u001b[0;34m(\u001b[0m\u001b[0;34m)\u001b[0m\u001b[0;34m\u001b[0m\u001b[0;34m\u001b[0m\u001b[0m\n\u001b[1;32m      3\u001b[0m \u001b[0mZ\u001b[0m \u001b[0;34m=\u001b[0m \u001b[0mdf\u001b[0m\u001b[0;34m[\u001b[0m\u001b[0;34m[\u001b[0m\u001b[0;34m'CPU_frequency'\u001b[0m\u001b[0;34m,\u001b[0m\u001b[0;34m'RAM_GB'\u001b[0m\u001b[0;34m,\u001b[0m\u001b[0;34m'Storage_GB_SSD'\u001b[0m\u001b[0;34m,\u001b[0m\u001b[0;34m'CPU_core'\u001b[0m\u001b[0;34m,\u001b[0m\u001b[0;34m'OS'\u001b[0m\u001b[0;34m,\u001b[0m\u001b[0;34m'GPU'\u001b[0m\u001b[0;34m,\u001b[0m\u001b[0;34m'Category'\u001b[0m\u001b[0;34m]\u001b[0m\u001b[0;34m]\u001b[0m\u001b[0;34m\u001b[0m\u001b[0;34m\u001b[0m\u001b[0m\n\u001b[0;32m----> 4\u001b[0;31m \u001b[0mlm1\u001b[0m\u001b[0;34m.\u001b[0m\u001b[0mfit\u001b[0m\u001b[0;34m(\u001b[0m\u001b[0mZ\u001b[0m\u001b[0;34m,\u001b[0m\u001b[0mY\u001b[0m\u001b[0;34m)\u001b[0m\u001b[0;34m\u001b[0m\u001b[0;34m\u001b[0m\u001b[0m\n\u001b[0m\u001b[1;32m      5\u001b[0m \u001b[0mY_hat\u001b[0m \u001b[0;34m=\u001b[0m \u001b[0mlm1\u001b[0m\u001b[0;34m.\u001b[0m\u001b[0mpredict\u001b[0m\u001b[0;34m(\u001b[0m\u001b[0mZ\u001b[0m\u001b[0;34m)\u001b[0m\u001b[0;34m\u001b[0m\u001b[0;34m\u001b[0m\u001b[0m\n",
            "\u001b[0;32m/usr/local/lib/python3.10/dist-packages/sklearn/linear_model/_base.py\u001b[0m in \u001b[0;36mfit\u001b[0;34m(self, X, y, sample_weight)\u001b[0m\n\u001b[1;32m    646\u001b[0m         \u001b[0maccept_sparse\u001b[0m \u001b[0;34m=\u001b[0m \u001b[0;32mFalse\u001b[0m \u001b[0;32mif\u001b[0m \u001b[0mself\u001b[0m\u001b[0;34m.\u001b[0m\u001b[0mpositive\u001b[0m \u001b[0;32melse\u001b[0m \u001b[0;34m[\u001b[0m\u001b[0;34m\"csr\"\u001b[0m\u001b[0;34m,\u001b[0m \u001b[0;34m\"csc\"\u001b[0m\u001b[0;34m,\u001b[0m \u001b[0;34m\"coo\"\u001b[0m\u001b[0;34m]\u001b[0m\u001b[0;34m\u001b[0m\u001b[0;34m\u001b[0m\u001b[0m\n\u001b[1;32m    647\u001b[0m \u001b[0;34m\u001b[0m\u001b[0m\n\u001b[0;32m--> 648\u001b[0;31m         X, y = self._validate_data(\n\u001b[0m\u001b[1;32m    649\u001b[0m             \u001b[0mX\u001b[0m\u001b[0;34m,\u001b[0m \u001b[0my\u001b[0m\u001b[0;34m,\u001b[0m \u001b[0maccept_sparse\u001b[0m\u001b[0;34m=\u001b[0m\u001b[0maccept_sparse\u001b[0m\u001b[0;34m,\u001b[0m \u001b[0my_numeric\u001b[0m\u001b[0;34m=\u001b[0m\u001b[0;32mTrue\u001b[0m\u001b[0;34m,\u001b[0m \u001b[0mmulti_output\u001b[0m\u001b[0;34m=\u001b[0m\u001b[0;32mTrue\u001b[0m\u001b[0;34m\u001b[0m\u001b[0;34m\u001b[0m\u001b[0m\n\u001b[1;32m    650\u001b[0m         )\n",
            "\u001b[0;32m/usr/local/lib/python3.10/dist-packages/sklearn/base.py\u001b[0m in \u001b[0;36m_validate_data\u001b[0;34m(self, X, y, reset, validate_separately, **check_params)\u001b[0m\n\u001b[1;32m    582\u001b[0m                 \u001b[0my\u001b[0m \u001b[0;34m=\u001b[0m \u001b[0mcheck_array\u001b[0m\u001b[0;34m(\u001b[0m\u001b[0my\u001b[0m\u001b[0;34m,\u001b[0m \u001b[0minput_name\u001b[0m\u001b[0;34m=\u001b[0m\u001b[0;34m\"y\"\u001b[0m\u001b[0;34m,\u001b[0m \u001b[0;34m**\u001b[0m\u001b[0mcheck_y_params\u001b[0m\u001b[0;34m)\u001b[0m\u001b[0;34m\u001b[0m\u001b[0;34m\u001b[0m\u001b[0m\n\u001b[1;32m    583\u001b[0m             \u001b[0;32melse\u001b[0m\u001b[0;34m:\u001b[0m\u001b[0;34m\u001b[0m\u001b[0;34m\u001b[0m\u001b[0m\n\u001b[0;32m--> 584\u001b[0;31m                 \u001b[0mX\u001b[0m\u001b[0;34m,\u001b[0m \u001b[0my\u001b[0m \u001b[0;34m=\u001b[0m \u001b[0mcheck_X_y\u001b[0m\u001b[0;34m(\u001b[0m\u001b[0mX\u001b[0m\u001b[0;34m,\u001b[0m \u001b[0my\u001b[0m\u001b[0;34m,\u001b[0m \u001b[0;34m**\u001b[0m\u001b[0mcheck_params\u001b[0m\u001b[0;34m)\u001b[0m\u001b[0;34m\u001b[0m\u001b[0;34m\u001b[0m\u001b[0m\n\u001b[0m\u001b[1;32m    585\u001b[0m             \u001b[0mout\u001b[0m \u001b[0;34m=\u001b[0m \u001b[0mX\u001b[0m\u001b[0;34m,\u001b[0m \u001b[0my\u001b[0m\u001b[0;34m\u001b[0m\u001b[0;34m\u001b[0m\u001b[0m\n\u001b[1;32m    586\u001b[0m \u001b[0;34m\u001b[0m\u001b[0m\n",
            "\u001b[0;32m/usr/local/lib/python3.10/dist-packages/sklearn/utils/validation.py\u001b[0m in \u001b[0;36mcheck_X_y\u001b[0;34m(X, y, accept_sparse, accept_large_sparse, dtype, order, copy, force_all_finite, ensure_2d, allow_nd, multi_output, ensure_min_samples, ensure_min_features, y_numeric, estimator)\u001b[0m\n\u001b[1;32m   1104\u001b[0m         )\n\u001b[1;32m   1105\u001b[0m \u001b[0;34m\u001b[0m\u001b[0m\n\u001b[0;32m-> 1106\u001b[0;31m     X = check_array(\n\u001b[0m\u001b[1;32m   1107\u001b[0m         \u001b[0mX\u001b[0m\u001b[0;34m,\u001b[0m\u001b[0;34m\u001b[0m\u001b[0;34m\u001b[0m\u001b[0m\n\u001b[1;32m   1108\u001b[0m         \u001b[0maccept_sparse\u001b[0m\u001b[0;34m=\u001b[0m\u001b[0maccept_sparse\u001b[0m\u001b[0;34m,\u001b[0m\u001b[0;34m\u001b[0m\u001b[0;34m\u001b[0m\u001b[0m\n",
            "\u001b[0;32m/usr/local/lib/python3.10/dist-packages/sklearn/utils/validation.py\u001b[0m in \u001b[0;36mcheck_array\u001b[0;34m(array, accept_sparse, accept_large_sparse, dtype, order, copy, force_all_finite, ensure_2d, allow_nd, ensure_min_samples, ensure_min_features, estimator, input_name)\u001b[0m\n\u001b[1;32m    877\u001b[0m                     \u001b[0marray\u001b[0m \u001b[0;34m=\u001b[0m \u001b[0mxp\u001b[0m\u001b[0;34m.\u001b[0m\u001b[0mastype\u001b[0m\u001b[0;34m(\u001b[0m\u001b[0marray\u001b[0m\u001b[0;34m,\u001b[0m \u001b[0mdtype\u001b[0m\u001b[0;34m,\u001b[0m \u001b[0mcopy\u001b[0m\u001b[0;34m=\u001b[0m\u001b[0;32mFalse\u001b[0m\u001b[0;34m)\u001b[0m\u001b[0;34m\u001b[0m\u001b[0;34m\u001b[0m\u001b[0m\n\u001b[1;32m    878\u001b[0m                 \u001b[0;32melse\u001b[0m\u001b[0;34m:\u001b[0m\u001b[0;34m\u001b[0m\u001b[0;34m\u001b[0m\u001b[0m\n\u001b[0;32m--> 879\u001b[0;31m                     \u001b[0marray\u001b[0m \u001b[0;34m=\u001b[0m \u001b[0m_asarray_with_order\u001b[0m\u001b[0;34m(\u001b[0m\u001b[0marray\u001b[0m\u001b[0;34m,\u001b[0m \u001b[0morder\u001b[0m\u001b[0;34m=\u001b[0m\u001b[0morder\u001b[0m\u001b[0;34m,\u001b[0m \u001b[0mdtype\u001b[0m\u001b[0;34m=\u001b[0m\u001b[0mdtype\u001b[0m\u001b[0;34m,\u001b[0m \u001b[0mxp\u001b[0m\u001b[0;34m=\u001b[0m\u001b[0mxp\u001b[0m\u001b[0;34m)\u001b[0m\u001b[0;34m\u001b[0m\u001b[0;34m\u001b[0m\u001b[0m\n\u001b[0m\u001b[1;32m    880\u001b[0m             \u001b[0;32mexcept\u001b[0m \u001b[0mComplexWarning\u001b[0m \u001b[0;32mas\u001b[0m \u001b[0mcomplex_warning\u001b[0m\u001b[0;34m:\u001b[0m\u001b[0;34m\u001b[0m\u001b[0;34m\u001b[0m\u001b[0m\n\u001b[1;32m    881\u001b[0m                 raise ValueError(\n",
            "\u001b[0;32m/usr/local/lib/python3.10/dist-packages/sklearn/utils/_array_api.py\u001b[0m in \u001b[0;36m_asarray_with_order\u001b[0;34m(array, dtype, order, copy, xp)\u001b[0m\n\u001b[1;32m    183\u001b[0m     \u001b[0;32mif\u001b[0m \u001b[0mxp\u001b[0m\u001b[0;34m.\u001b[0m\u001b[0m__name__\u001b[0m \u001b[0;32min\u001b[0m \u001b[0;34m{\u001b[0m\u001b[0;34m\"numpy\"\u001b[0m\u001b[0;34m,\u001b[0m \u001b[0;34m\"numpy.array_api\"\u001b[0m\u001b[0;34m}\u001b[0m\u001b[0;34m:\u001b[0m\u001b[0;34m\u001b[0m\u001b[0;34m\u001b[0m\u001b[0m\n\u001b[1;32m    184\u001b[0m         \u001b[0;31m# Use NumPy API to support order\u001b[0m\u001b[0;34m\u001b[0m\u001b[0;34m\u001b[0m\u001b[0m\n\u001b[0;32m--> 185\u001b[0;31m         \u001b[0marray\u001b[0m \u001b[0;34m=\u001b[0m \u001b[0mnumpy\u001b[0m\u001b[0;34m.\u001b[0m\u001b[0masarray\u001b[0m\u001b[0;34m(\u001b[0m\u001b[0marray\u001b[0m\u001b[0;34m,\u001b[0m \u001b[0morder\u001b[0m\u001b[0;34m=\u001b[0m\u001b[0morder\u001b[0m\u001b[0;34m,\u001b[0m \u001b[0mdtype\u001b[0m\u001b[0;34m=\u001b[0m\u001b[0mdtype\u001b[0m\u001b[0;34m)\u001b[0m\u001b[0;34m\u001b[0m\u001b[0;34m\u001b[0m\u001b[0m\n\u001b[0m\u001b[1;32m    186\u001b[0m         \u001b[0;32mreturn\u001b[0m \u001b[0mxp\u001b[0m\u001b[0;34m.\u001b[0m\u001b[0masarray\u001b[0m\u001b[0;34m(\u001b[0m\u001b[0marray\u001b[0m\u001b[0;34m,\u001b[0m \u001b[0mcopy\u001b[0m\u001b[0;34m=\u001b[0m\u001b[0mcopy\u001b[0m\u001b[0;34m)\u001b[0m\u001b[0;34m\u001b[0m\u001b[0;34m\u001b[0m\u001b[0m\n\u001b[1;32m    187\u001b[0m     \u001b[0;32melse\u001b[0m\u001b[0;34m:\u001b[0m\u001b[0;34m\u001b[0m\u001b[0;34m\u001b[0m\u001b[0m\n",
            "\u001b[0;32m/usr/local/lib/python3.10/dist-packages/pandas/core/generic.py\u001b[0m in \u001b[0;36m__array__\u001b[0;34m(self, dtype)\u001b[0m\n\u001b[1;32m   1996\u001b[0m     \u001b[0;32mdef\u001b[0m \u001b[0m__array__\u001b[0m\u001b[0;34m(\u001b[0m\u001b[0mself\u001b[0m\u001b[0;34m,\u001b[0m \u001b[0mdtype\u001b[0m\u001b[0;34m:\u001b[0m \u001b[0mnpt\u001b[0m\u001b[0;34m.\u001b[0m\u001b[0mDTypeLike\u001b[0m \u001b[0;34m|\u001b[0m \u001b[0;32mNone\u001b[0m \u001b[0;34m=\u001b[0m \u001b[0;32mNone\u001b[0m\u001b[0;34m)\u001b[0m \u001b[0;34m->\u001b[0m \u001b[0mnp\u001b[0m\u001b[0;34m.\u001b[0m\u001b[0mndarray\u001b[0m\u001b[0;34m:\u001b[0m\u001b[0;34m\u001b[0m\u001b[0;34m\u001b[0m\u001b[0m\n\u001b[1;32m   1997\u001b[0m         \u001b[0mvalues\u001b[0m \u001b[0;34m=\u001b[0m \u001b[0mself\u001b[0m\u001b[0;34m.\u001b[0m\u001b[0m_values\u001b[0m\u001b[0;34m\u001b[0m\u001b[0;34m\u001b[0m\u001b[0m\n\u001b[0;32m-> 1998\u001b[0;31m         \u001b[0marr\u001b[0m \u001b[0;34m=\u001b[0m \u001b[0mnp\u001b[0m\u001b[0;34m.\u001b[0m\u001b[0masarray\u001b[0m\u001b[0;34m(\u001b[0m\u001b[0mvalues\u001b[0m\u001b[0;34m,\u001b[0m \u001b[0mdtype\u001b[0m\u001b[0;34m=\u001b[0m\u001b[0mdtype\u001b[0m\u001b[0;34m)\u001b[0m\u001b[0;34m\u001b[0m\u001b[0;34m\u001b[0m\u001b[0m\n\u001b[0m\u001b[1;32m   1999\u001b[0m         if (\n\u001b[1;32m   2000\u001b[0m             \u001b[0mastype_is_view\u001b[0m\u001b[0;34m(\u001b[0m\u001b[0mvalues\u001b[0m\u001b[0;34m.\u001b[0m\u001b[0mdtype\u001b[0m\u001b[0;34m,\u001b[0m \u001b[0marr\u001b[0m\u001b[0;34m.\u001b[0m\u001b[0mdtype\u001b[0m\u001b[0;34m)\u001b[0m\u001b[0;34m\u001b[0m\u001b[0;34m\u001b[0m\u001b[0m\n",
            "\u001b[0;31mValueError\u001b[0m: could not convert string to float: 'IPS Panel'"
          ]
        }
      ],
      "source": [
        "# Write your code below and press Shift+Enter to execute\n",
        "lm1 = LinearRegression()\n",
        "Z = df[['CPU_frequency','RAM_GB','Storage_GB_SSD','CPU_core','OS','GPU','Category']]\n",
        "lm1.fit(Z,Y)\n",
        "Y_hat = lm1.predict(Z)"
      ],
      "execution_count": 23
    },
    {
      "cell_type": "markdown",
      "metadata": {
        "id": "a99ef09e-97ce-4fad-9b59-67f7b14903cd"
      },
      "source": [
        "<details>\n",
        "    <summary>Click here for Solution</summary>\n",
        "\n",
        "```python\n",
        "lm1 = LinearRegression()\n",
        "Z = df[['CPU_frequency','RAM_GB','Storage_GB_SSD','CPU_core','OS','GPU','Category']]\n",
        "lm1.fit(Z,Y)\n",
        "Y_hat = lm1.predict(Z)\n",
        "```\n",
        "\n",
        "</details>\n"
      ]
    },
    {
      "cell_type": "markdown",
      "metadata": {
        "id": "42655ce4-dd93-44f0-a115-b75257bd621b"
      },
      "source": [
        "Plot the Distribution graph of the predicted values as well as the Actual values\n"
      ]
    },
    {
      "cell_type": "code",
      "metadata": {
        "id": "6d9c4d2e-4d00-45db-9950-48b322c22b34"
      },
      "outputs": [],
      "source": [
        "# Write your code below and press Shift+Enter to execute\n"
      ],
      "execution_count": null
    },
    {
      "cell_type": "markdown",
      "metadata": {
        "id": "43d029f3-937f-4465-a506-cbc00c2ef9dd"
      },
      "source": [
        "<details>\n",
        "    <summary>Click here for Solution</summary>\n",
        "\n",
        "```python\n",
        "ax1 = sns.distplot(df['Price'], hist=False, color=\"r\", label=\"Actual Value\")\n",
        "sns.distplot(Y_hat, hist=False, color=\"b\", label=\"Fitted Values\" , ax=ax1)\n",
        "\n",
        "plt.title('Actual vs Fitted Values for Price')\n",
        "plt.xlabel('Price')\n",
        "plt.ylabel('Proportion of laptops')\n",
        "\n",
        "```\n",
        "\n",
        "</details>\n"
      ]
    },
    {
      "cell_type": "markdown",
      "metadata": {
        "id": "69023cd9-5fbb-4927-aea6-7cb93bc682f5"
      },
      "source": [
        "Find the R^2 score and the MSE value for this fit. Is this better or worst than the performance of Single Linear Regression?\n"
      ]
    },
    {
      "cell_type": "code",
      "metadata": {
        "id": "3a6dd1c2-6893-4f3a-aebf-e6955c52c586"
      },
      "outputs": [],
      "source": [
        "# Write your code below and press Shift+Enter to execute\n"
      ],
      "execution_count": null
    },
    {
      "cell_type": "markdown",
      "metadata": {
        "id": "adea35e6-2a8a-43f6-8060-e0def185312b"
      },
      "source": [
        "<details>\n",
        "    <summary>Click here for Solution</summary>\n",
        "\n",
        "```python\n",
        "ax2 = sns.distplot(df['Price'], hist=False, color=\"r\", label=\"Actual Value\")\n",
        "sns.distplot(Y_hat, hist=False, color=\"b\", label=\"Fitted Values\" , ax=ax2)\n",
        "\n",
        "plt.title('Actual vs Fitted Values for Price')\n",
        "plt.xlabel('Price')\n",
        "plt.ylabel('Proportion of laptops')\n",
        "```\n",
        "\n",
        "</details>\n"
      ]
    },
    {
      "cell_type": "markdown",
      "metadata": {
        "id": "63e86d71-3ada-4a38-b7e0-a9885017587b"
      },
      "source": [
        "# Task 3 - Polynomial Regression\n",
        "Use the variable \"CPU_frequency\" to create Polynomial features. Try this for 3 different values of polynomial degrees. Remember that polynomial fits are done using `numpy.polyfit`.\n"
      ]
    },
    {
      "cell_type": "code",
      "metadata": {
        "id": "42211eb6-8d07-48d8-bd4d-958b7098b0e6"
      },
      "outputs": [],
      "source": [
        "#  Write your code below and press Shift+Enter to execute\n",
        "X = X.to_numpy().flatten()\n",
        "f1 = np.polyfit(X, Y, 1)\n",
        "p1 = np.poly1d(f1)\n",
        "\n",
        "f3 = np.polyfit(X, Y, 3)\n",
        "p3 = np.poly1d(f3)\n",
        "\n",
        "f5 = np.polyfit(X, Y, 5)\n",
        "p5 = np.poly1d(f5)\n"
      ],
      "execution_count": null
    },
    {
      "cell_type": "markdown",
      "metadata": {
        "id": "837ad03d-bc9d-4397-8842-672f45b41ab3"
      },
      "source": [
        "<details>\n",
        "    <summary>Click here for Solution</summary>\n",
        "\n",
        "```python\n",
        "X = X.to_numpy().flatten()\n",
        "f1 = np.polyfit(X, Y, 1)\n",
        "p1 = np.poly1d(f1)\n",
        "\n",
        "f3 = np.polyfit(X, Y, 3)\n",
        "p3 = np.poly1d(f3)\n",
        "\n",
        "f5 = np.polyfit(X, Y, 5)\n",
        "p5 = np.poly1d(f5)\n",
        "```\n",
        "\n",
        "</details>\n"
      ]
    },
    {
      "cell_type": "markdown",
      "metadata": {
        "id": "f168c481-c7ba-46a9-b8ca-4c3151a44444"
      },
      "source": [
        "Plot the regression output against the actual data points to note how the data fits in each case. To plot the polynomial response over the actual data points, you have the function shown below.\n"
      ]
    },
    {
      "cell_type": "code",
      "metadata": {
        "id": "ac920d23-0b0a-4cc8-83bf-46e68cb1eeea"
      },
      "outputs": [],
      "source": [
        "def PlotPolly(model, independent_variable, dependent_variabble, Name):\n",
        "    x_new = np.linspace(independent_variable.min(),independent_variable.max(),100)\n",
        "    y_new = model(x_new)\n",
        "\n",
        "    plt.plot(independent_variable, dependent_variabble, '.', x_new, y_new, '-')\n",
        "    plt.title(f'Polynomial Fit for Price ~ {Name}')\n",
        "    ax = plt.gca()\n",
        "    ax.set_facecolor((0.898, 0.898, 0.898))\n",
        "    fig = plt.gcf()\n",
        "    plt.xlabel(Name)\n",
        "    plt.ylabel('Price of laptops')"
      ],
      "execution_count": null
    },
    {
      "cell_type": "markdown",
      "metadata": {
        "id": "1838265f-d1f0-4082-ab06-dedfcfea7fcf"
      },
      "source": [
        "Call this function for the 3 models created and get the required graphs.\n"
      ]
    },
    {
      "cell_type": "code",
      "metadata": {
        "id": "073e9151-50ce-4efe-924a-432a0e1c6659"
      },
      "outputs": [],
      "source": [
        "#  Write your code below and press Shift+Enter to execute\n",
        "# Call for function of degree 1\n",
        "PlotPolly(p1, X, Y, 'CPU_frequency')"
      ],
      "execution_count": null
    },
    {
      "cell_type": "markdown",
      "metadata": {
        "id": "3d613f7c-99d4-4efa-8f75-7a99f4aa32df"
      },
      "source": [
        "<details>\n",
        "    <summary>Click here for Solution</summary>\n",
        "    \n",
        "```python\n",
        "PlotPolly(p1, X, Y, 'CPU_frequency')\n",
        "```\n",
        "\n",
        "</details>\n"
      ]
    },
    {
      "cell_type": "code",
      "metadata": {
        "id": "4bcf9b5c-c4b5-48b0-bcbb-df423ddefdd5"
      },
      "outputs": [],
      "source": [
        "#  Write your code below and press Shift+Enter to execute\n",
        "# Call for function of degree 3\n",
        "PlotPolly(p3, X, Y, 'CPU_frequency')"
      ],
      "execution_count": null
    },
    {
      "cell_type": "markdown",
      "metadata": {
        "id": "2b4412b3-3b7a-4ac4-a825-17ca8f0189d7"
      },
      "source": [
        "<details>\n",
        "    <summary>Click here for Solution</summary>\n",
        "    \n",
        "```python\n",
        "PlotPolly(p3, X, Y, 'CPU_frequency')\n",
        "```\n",
        "\n",
        "</details>\n"
      ]
    },
    {
      "cell_type": "code",
      "metadata": {
        "id": "75a4a9e4-831f-4c5f-890a-33646b6c9bbd",
        "colab": {
          "base_uri": "https://localhost:8080/",
          "height": 176
        },
        "outputId": "e26eb49e-0077-4520-b441-198ecd879393"
      },
      "outputs": [
        {
          "output_type": "error",
          "ename": "NameError",
          "evalue": "name 'PlotPolly' is not defined",
          "traceback": [
            "\u001b[0;31m---------------------------------------------------------------------------\u001b[0m",
            "\u001b[0;31mNameError\u001b[0m                                 Traceback (most recent call last)",
            "\u001b[0;32m<ipython-input-22-f7e54b697946>\u001b[0m in \u001b[0;36m<cell line: 3>\u001b[0;34m()\u001b[0m\n\u001b[1;32m      1\u001b[0m \u001b[0;31m#  Write your code below and press Shift+Enter to execute\u001b[0m\u001b[0;34m\u001b[0m\u001b[0;34m\u001b[0m\u001b[0m\n\u001b[1;32m      2\u001b[0m \u001b[0;31m# Call for function of degree 5\u001b[0m\u001b[0;34m\u001b[0m\u001b[0;34m\u001b[0m\u001b[0m\n\u001b[0;32m----> 3\u001b[0;31m \u001b[0mPlotPolly\u001b[0m\u001b[0;34m(\u001b[0m\u001b[0mp5\u001b[0m\u001b[0;34m,\u001b[0m \u001b[0mX\u001b[0m\u001b[0;34m,\u001b[0m \u001b[0mY\u001b[0m\u001b[0;34m,\u001b[0m \u001b[0;34m'CPU_frequency'\u001b[0m\u001b[0;34m)\u001b[0m\u001b[0;34m\u001b[0m\u001b[0;34m\u001b[0m\u001b[0m\n\u001b[0m",
            "\u001b[0;31mNameError\u001b[0m: name 'PlotPolly' is not defined"
          ]
        }
      ],
      "source": [
        "#  Write your code below and press Shift+Enter to execute\n",
        "# Call for function of degree 5\n",
        "PlotPolly(p5, X, Y, 'CPU_frequency')"
      ],
      "execution_count": 22
    },
    {
      "cell_type": "markdown",
      "metadata": {
        "id": "a3337ad2-cd9d-4ada-9cdc-a437c4a9c274"
      },
      "source": [
        "<details>\n",
        "    <summary>Click here for Solution</summary>\n",
        "    \n",
        "```python\n",
        "PlotPolly(p5, X, Y, 'CPU_frequency')\n",
        "```\n",
        "\n",
        "</details>\n"
      ]
    },
    {
      "cell_type": "markdown",
      "metadata": {
        "id": "93b800ec-2531-4902-98e1-12522e83bb0a"
      },
      "source": [
        "Also, calculate the R^2 and MSE values for these fits. For polynomial functions, the function sklearn.metrics.r2_score will be used to calculate R^2 values.\n"
      ]
    },
    {
      "cell_type": "code",
      "metadata": {
        "id": "c4be80a2-6400-4363-898d-07cc999c90ae",
        "colab": {
          "base_uri": "https://localhost:8080/",
          "height": 211
        },
        "outputId": "c5943692-ec09-4cdf-b78d-271689fcf4b4"
      },
      "outputs": [
        {
          "output_type": "error",
          "ename": "NameError",
          "evalue": "name 'p1' is not defined",
          "traceback": [
            "\u001b[0;31m---------------------------------------------------------------------------\u001b[0m",
            "\u001b[0;31mNameError\u001b[0m                                 Traceback (most recent call last)",
            "\u001b[0;32m<ipython-input-21-72e71e1cc81d>\u001b[0m in \u001b[0;36m<cell line: 2>\u001b[0;34m()\u001b[0m\n\u001b[1;32m      1\u001b[0m \u001b[0;31m#  Write your code below and press Shift+Enter to execute\u001b[0m\u001b[0;34m\u001b[0m\u001b[0;34m\u001b[0m\u001b[0m\n\u001b[0;32m----> 2\u001b[0;31m \u001b[0mr_squared_1\u001b[0m \u001b[0;34m=\u001b[0m \u001b[0mr2_score\u001b[0m\u001b[0;34m(\u001b[0m\u001b[0mY\u001b[0m\u001b[0;34m,\u001b[0m \u001b[0mp1\u001b[0m\u001b[0;34m(\u001b[0m\u001b[0mX\u001b[0m\u001b[0;34m)\u001b[0m\u001b[0;34m)\u001b[0m\u001b[0;34m\u001b[0m\u001b[0;34m\u001b[0m\u001b[0m\n\u001b[0m\u001b[1;32m      3\u001b[0m \u001b[0mprint\u001b[0m\u001b[0;34m(\u001b[0m\u001b[0;34m'The R-square value for 1st degree polynomial is: '\u001b[0m\u001b[0;34m,\u001b[0m \u001b[0mr_squared_1\u001b[0m\u001b[0;34m)\u001b[0m\u001b[0;34m\u001b[0m\u001b[0;34m\u001b[0m\u001b[0m\n\u001b[1;32m      4\u001b[0m \u001b[0mprint\u001b[0m\u001b[0;34m(\u001b[0m\u001b[0;34m'The MSE value for 1st degree polynomial is: '\u001b[0m\u001b[0;34m,\u001b[0m \u001b[0mmean_squared_error\u001b[0m\u001b[0;34m(\u001b[0m\u001b[0mY\u001b[0m\u001b[0;34m,\u001b[0m\u001b[0mp1\u001b[0m\u001b[0;34m(\u001b[0m\u001b[0mX\u001b[0m\u001b[0;34m)\u001b[0m\u001b[0;34m)\u001b[0m\u001b[0;34m)\u001b[0m\u001b[0;34m\u001b[0m\u001b[0;34m\u001b[0m\u001b[0m\n\u001b[1;32m      5\u001b[0m \u001b[0mr_squared_3\u001b[0m \u001b[0;34m=\u001b[0m \u001b[0mr2_score\u001b[0m\u001b[0;34m(\u001b[0m\u001b[0mY\u001b[0m\u001b[0;34m,\u001b[0m \u001b[0mp3\u001b[0m\u001b[0;34m(\u001b[0m\u001b[0mX\u001b[0m\u001b[0;34m)\u001b[0m\u001b[0;34m)\u001b[0m\u001b[0;34m\u001b[0m\u001b[0;34m\u001b[0m\u001b[0m\n",
            "\u001b[0;31mNameError\u001b[0m: name 'p1' is not defined"
          ]
        }
      ],
      "source": [
        "#  Write your code below and press Shift+Enter to execute\n",
        "r_squared_1 = r2_score(Y, p1(X))\n",
        "print('The R-square value for 1st degree polynomial is: ', r_squared_1)\n",
        "print('The MSE value for 1st degree polynomial is: ', mean_squared_error(Y,p1(X)))\n",
        "r_squared_3 = r2_score(Y, p3(X))\n",
        "print('The R-square value for 3rd degree polynomial is: ', r_squared_3)\n",
        "print('The MSE value for 3rd degree polynomial is: ', mean_squared_error(Y,p3(X)))\n",
        "r_squared_5 = r2_score(Y, p5(X))\n",
        "print('The R-square value for 5th degree polynomial is: ', r_squared_5)\n",
        "print('The MSE value for 5th degree polynomial is: ', mean_squared_error(Y,p5(X)))"
      ],
      "execution_count": 21
    },
    {
      "cell_type": "markdown",
      "metadata": {
        "id": "a6d69210-e699-439b-93b4-7bfa4e3a62e1"
      },
      "source": [
        "<details>\n",
        "    <summary>Click here for Solution</summary>\n",
        "    \n",
        "```python\n",
        "r_squared_1 = r2_score(Y, p1(X))\n",
        "print('The R-square value for 1st degree polynomial is: ', r_squared_1)\n",
        "print('The MSE value for 1st degree polynomial is: ', mean_squared_error(Y,p1(X)))\n",
        "r_squared_3 = r2_score(Y, p3(X))\n",
        "print('The R-square value for 3rd degree polynomial is: ', r_squared_3)\n",
        "print('The MSE value for 3rd degree polynomial is: ', mean_squared_error(Y,p3(X)))\n",
        "r_squared_5 = r2_score(Y, p5(X))\n",
        "print('The R-square value for 5th degree polynomial is: ', r_squared_5)\n",
        "print('The MSE value for 5th degree polynomial is: ', mean_squared_error(Y,p5(X)))\n",
        "```\n",
        "\n",
        "</details>\n"
      ]
    },
    {
      "cell_type": "markdown",
      "metadata": {
        "id": "cdcb609f-5700-4184-88b5-28ced4de75f3"
      },
      "source": [
        "# Task 4 - Pipeline\n",
        "Create a pipeline that performs parameter scaling, Polynomial Feature generation and Linear regression. Use the set of multiple features as before to create this pipeline.\n"
      ]
    },
    {
      "cell_type": "code",
      "metadata": {
        "id": "41e4230e-d3e8-463c-a570-2759b8856903"
      },
      "outputs": [],
      "source": [
        "mse_slr = mean_squared_error(df['Price'], Yhat)\n",
        "r2_score_slr = lm.score(X, Y)\n",
        "print('The R-square for Linear Regression is: ', r2_score_slr)\n",
        "print('The mean square error of price and predicted value is: ', mse_slr)\n"
      ],
      "execution_count": null
    },
    {
      "cell_type": "markdown",
      "metadata": {
        "id": "2dd8b4a3-53e6-42a8-b51c-7216314770af"
      },
      "source": [
        "Evaluate the MSE and R^2 values for the this predicted output.\n"
      ]
    },
    {
      "cell_type": "code",
      "metadata": {
        "id": "fb87d314-1551-47e0-bcd6-bbe587055100"
      },
      "outputs": [],
      "source": [
        "mse_slr = mean_squared_error(df['Price'], Yhat)\n",
        "r2_score_slr = lm.score(X, Y)\n",
        "print('The R-square for Linear Regression is: ', r2_score_slr)\n",
        "print('The mean square error of price and predicted value is: ', mse_slr)\n"
      ],
      "execution_count": null
    }
  ],
  "metadata": {
    "language_info": {
      "codemirror_mode": {
        "name": "python",
        "version": 3
      },
      "file_extension": ".py",
      "mimetype": "text/x-python",
      "name": "python",
      "nbconvert_exporter": "python",
      "pygments_lexer": "ipython3",
      "version": "3.8"
    },
    "kernelspec": {
      "name": "python",
      "display_name": "Pyolite",
      "language": "python"
    },
    "colab": {
      "provenance": [],
      "include_colab_link": true
    }
  },
  "nbformat": 4,
  "nbformat_minor": 0
}